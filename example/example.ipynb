{
 "cells": [
  {
   "attachments": {},
   "cell_type": "markdown",
   "metadata": {},
   "source": [
    "Hello World!"
   ]
  }
 ],
 "metadata": {
  "kernelspec": {
   "display_name": "Python 3",
   "language": "python",
   "name": "python3"
  },
  "language_info": {
   "name": "python",
   "version": "3.10.5 (main, Jul 18 2022, 10:05:58) [Clang 12.0.5 (clang-1205.0.22.9)]"
  },
  "orig_nbformat": 4,
  "vscode": {
   "interpreter": {
    "hash": "6bc4ce9437654cbf95ca90c95eaef0ce69b404b5f102cb526cf827acb9c575c4"
   }
  }
 },
 "nbformat": 4,
 "nbformat_minor": 2
}
